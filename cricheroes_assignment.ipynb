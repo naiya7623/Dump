{
 "cells": [
  {
   "cell_type": "markdown",
   "id": "2f707ee2-7cf0-4796-bfd5-33582a9af946",
   "metadata": {},
   "source": [
    "### Importing Necessary Libraries required to read files and transform raw data"
   ]
  },
  {
   "cell_type": "code",
   "execution_count": 1,
   "id": "31174cd2-3221-4901-a566-01af7aabdea3",
   "metadata": {},
   "outputs": [],
   "source": [
    "import pandas as pd\n",
    "import glob\n",
    "import os"
   ]
  },
  {
   "cell_type": "markdown",
   "id": "0909c0c6-c6c7-4823-8f88-de451c778ff0",
   "metadata": {},
   "source": [
    "### Reading all the info files and merging them into one file"
   ]
  },
  {
   "cell_type": "code",
   "execution_count": 2,
   "id": "b7d85deb-9d5c-44fd-8f87-da6b8228537a",
   "metadata": {},
   "outputs": [],
   "source": [
    "in_files = glob.glob(r'C:\\Users\\DELL\\Documents\\Assignments\\CricHeroes\\Assignment Files\\*info.csv')\n",
    "in_files = sorted(in_files)\n",
    "\n",
    "info_files = []\n",
    "\n",
    "for file in in_files:\n",
    "    in_df = pd.read_csv(file, sep = ',', names = ['info', 'field', 'player_team', 'player_name', 'serial_no'])\n",
    "    d1 = in_df\n",
    "    d2 = d1.query('field == \"season\"')\n",
    "    d3 = d2.set_index('field').T\n",
    "    d4 = d3.iloc[1: , :]\n",
    "    d5 = d4['season'].iloc[0]\n",
    "    in_df.insert(0, 'tournament_season', d5)\n",
    "    in_df = in_df.query('field == \"player\"')\n",
    "    in_df = in_df.drop(['info', 'field', 'serial_no'], axis = 1)\n",
    "    info_files.append(in_df)"
   ]
  },
  {
   "cell_type": "markdown",
   "id": "a1db930d-d677-471b-a2da-dc7fb9f7402f",
   "metadata": {},
   "source": [
    "### Reading the ball-by-ball files separately for batters and bowlers to get different datasets"
   ]
  },
  {
   "cell_type": "code",
   "execution_count": 3,
   "id": "75de73d2-c968-4de7-9279-1cb2e6eae677",
   "metadata": {},
   "outputs": [],
   "source": [
    "bt_files = glob.glob(r'C:\\Users\\DELL\\Documents\\Assignments\\CricHeroes\\Assignment Files\\*[0-9].csv')\n",
    "bt_files = sorted(bt_files)\n",
    "\n",
    "batter_files = []\n",
    "\n",
    "for file in bt_files:\n",
    "    bt_df = pd.read_csv(file)\n",
    "    batter_files.append(bt_df)"
   ]
  },
  {
   "cell_type": "code",
   "execution_count": 4,
   "id": "0c887019-6890-4b1a-940c-4b7e9896c5b3",
   "metadata": {},
   "outputs": [],
   "source": [
    "bw_files = glob.glob(r'C:\\Users\\DELL\\Documents\\Assignments\\CricHeroes\\Assignment Files\\*[0-9].csv')\n",
    "bw_files = sorted(bw_files)\n",
    "\n",
    "bowler_files = []\n",
    "\n",
    "for file in bw_files:\n",
    "    bw_df = pd.read_csv(file)\n",
    "    bowler_files.append(bw_df)"
   ]
  },
  {
   "cell_type": "markdown",
   "id": "57384892-68ff-47f9-a141-946901e79132",
   "metadata": {},
   "source": [
    "### Performing minor data cleaning and merging the info files with the batting and bowling files. Saving the new files."
   ]
  },
  {
   "cell_type": "code",
   "execution_count": 5,
   "id": "4d9cdbaa-e278-483e-a1bf-7113bc7dd214",
   "metadata": {},
   "outputs": [],
   "source": [
    "info_bat_files = []\n",
    "\n",
    "for i in range(0, len(info_files)):\n",
    "    ib_df = pd.merge(info_files[i], batter_files[i], left_on = 'player_name', right_on = 'striker', how = 'left')\n",
    "    info_bat_files.append(ib_df)\n",
    "    \n",
    "batting_data = pd.concat(info_bat_files, ignore_index = True)"
   ]
  },
  {
   "cell_type": "code",
   "execution_count": 6,
   "id": "8c588799-f727-443c-8299-650a24624709",
   "metadata": {},
   "outputs": [],
   "source": [
    "batting_data = batting_data.replace(to_replace=[\"Rising Pune Supergiant\"],\n",
    "           value=\"Rising Pune Supergiants\")\n",
    "batting_data = batting_data.replace(to_replace=[\"Kings XI Punjab\"],\n",
    "           value=\"Punjab Kings\")\n",
    "batting_data = batting_data.replace(to_replace=[\"Delhi Daredevils\"],\n",
    "           value=\"Delhi Capitals\")"
   ]
  },
  {
   "cell_type": "code",
   "execution_count": 7,
   "id": "2e70e7ae-c6b8-4514-af1a-774f4534c429",
   "metadata": {
    "scrolled": true
   },
   "outputs": [],
   "source": [
    "info_bowl_files = []\n",
    "\n",
    "for i in range(0, len(info_files)):\n",
    "    ib_df = pd.merge(info_files[i], bowler_files[i], left_on = 'player_name', right_on = 'bowler', how = 'left')\n",
    "    info_bowl_files.append(ib_df)\n",
    "    \n",
    "bowling_data = pd.concat(info_bowl_files, ignore_index = True)"
   ]
  },
  {
   "cell_type": "code",
   "execution_count": 8,
   "id": "82bcc376-5bb9-4008-bed4-a924c35d9b18",
   "metadata": {},
   "outputs": [],
   "source": [
    "bowling_data = bowling_data.replace(to_replace=[\"Rising Pune Supergiant\"],\n",
    "           value=\"Rising Pune Supergiants\")\n",
    "batting_data = batting_data.replace(to_replace=[\"Kings XI Punjab\"],\n",
    "           value=\"Punjab Kings\")\n",
    "batting_data = batting_data.replace(to_replace=[\"Delhi Daredevils\"],\n",
    "           value=\"Delhi Capitals\")"
   ]
  },
  {
   "cell_type": "code",
   "execution_count": 10,
   "id": "7f673678-edf4-4b7b-aad2-32eef9fd5852",
   "metadata": {},
   "outputs": [],
   "source": [
    "batting_data.to_csv(r'C:\\Users\\DELL\\Documents\\Assignments\\CricHeroes\\Final Files\\batting_data.csv', index = False)\n",
    "bowling_data.to_csv(r'C:\\Users\\DELL\\Documents\\Assignments\\CricHeroes\\Final Files\\bowling_data.csv', index = False)"
   ]
  },
  {
   "cell_type": "markdown",
   "id": "fc9dbaaf-d509-4bf2-b906-966c99f92df2",
   "metadata": {},
   "source": [
    "### Calculating the required metrics for batters' and bowlers'"
   ]
  },
  {
   "cell_type": "code",
   "execution_count": 11,
   "id": "e735004c-e3be-4007-bd84-71821f691a47",
   "metadata": {
    "scrolled": true
   },
   "outputs": [
    {
     "name": "stderr",
     "output_type": "stream",
     "text": [
      "C:\\Users\\DELL\\AppData\\Local\\Temp\\ipykernel_11896\\3236746076.py:1: DtypeWarning: Columns (0,4) have mixed types. Specify dtype option on import or set low_memory=False.\n",
      "  bt_df = pd.read_csv(r'C:\\Users\\DELL\\Documents\\Assignments\\CricHeroes\\Final Files\\batting_data.csv')\n"
     ]
    }
   ],
   "source": [
    "bt_df = pd.read_csv(r'C:\\Users\\DELL\\Documents\\Assignments\\CricHeroes\\Final Files\\batting_data.csv')"
   ]
  },
  {
   "cell_type": "code",
   "execution_count": 12,
   "id": "92e31245-6e59-4d4a-bb6f-10afea741133",
   "metadata": {},
   "outputs": [],
   "source": [
    "bat_table = bt_df.groupby(['player_name', 'player_team', 'tournament_season', 'match_id'], dropna = False).apply(lambda x: pd.Series(dict(\n",
    "    no_of_matches = ((x.match_id).nunique() + (x.match_id).isnull().sum()),\n",
    "    no_of_innings = (x.match_id).nunique(),\n",
    "    total_runs = (x.runs_off_bat).sum(),\n",
    "    balls_faced = (x.ball).count(),\n",
    "    fours = (x.runs_off_bat == 4).sum(),\n",
    "    sixes = (x.runs_off_bat == 6).sum(),\n",
    "    outs = (x.striker == x.player_dismissed).count(),\n",
    "    thirties = ((x.runs_off_bat).sum() >= 30).sum(),\n",
    "    fifties = ((x.runs_off_bat).sum() >= 50).sum(),\n",
    "    hundreds = ((x.runs_off_bat).sum() >= 100).sum(),\n",
    "    not_outs = ((x.match_id).nunique() - (x.wicket_type).count())\n",
    "    )))"
   ]
  },
  {
   "cell_type": "code",
   "execution_count": 13,
   "id": "a895ac41-7aba-4733-87d4-e45c6ef4505d",
   "metadata": {
    "scrolled": true
   },
   "outputs": [],
   "source": [
    "bat_data = bat_table.groupby(['player_name', 'player_team', 'tournament_season']).agg(no_of_matches = ('no_of_matches', 'sum'),\n",
    "                            no_of_innings = ('no_of_innings', 'sum'),\n",
    "                            total_runs = ('total_runs', 'sum'),\n",
    "                            balls_faced = ('balls_faced', 'sum'),\n",
    "                            fours = ('fours', 'sum'),\n",
    "                            sixes = ('sixes', 'sum'),\n",
    "                            outs = ('outs', 'sum'),\n",
    "                            thirties = ('thirties', 'sum'),\n",
    "                            fifties = ('fifties', 'sum'),\n",
    "                            hundreds = ('hundreds', 'sum'),\n",
    "                            max_runs = ('total_runs', 'max'),\n",
    "                            not_outs = ('not_outs', 'sum')\n",
    "                            )"
   ]
  },
  {
   "cell_type": "code",
   "execution_count": 14,
   "id": "4f88f40c-8540-49ef-a164-a5287e967d1b",
   "metadata": {},
   "outputs": [
    {
     "name": "stderr",
     "output_type": "stream",
     "text": [
      "C:\\Users\\DELL\\AppData\\Local\\Temp\\ipykernel_11896\\3668179717.py:1: DtypeWarning: Columns (0,4) have mixed types. Specify dtype option on import or set low_memory=False.\n",
      "  bw_df = pd.read_csv(r'C:\\Users\\DELL\\Documents\\Assignments\\CricHeroes\\Final Files\\bowling_data.csv')\n"
     ]
    }
   ],
   "source": [
    "bw_df = pd.read_csv(r'C:\\Users\\DELL\\Documents\\Assignments\\CricHeroes\\Final Files\\bowling_data.csv')\n",
    "bw_df[['over_no', 'ball_no']] = bw_df.ball.astype(str).str.split('.', expand = True)"
   ]
  },
  {
   "cell_type": "code",
   "execution_count": 15,
   "id": "dcd380de-0ad3-45d5-b2a8-74db61db813a",
   "metadata": {},
   "outputs": [],
   "source": [
    "bowl_table = bw_df.groupby(['player_name', 'player_team', 'tournament_season', 'match_id', 'over_no'], dropna = False).apply(lambda x: pd.Series(dict(\n",
    "    no_of_matches = ((x.match_id).nunique() + (x.match_id).isnull().sum()),\n",
    "    no_of_innings = (x.match_id).nunique(),\n",
    "    balls = (x.ball).count(),\n",
    "    overs = (x.ball).count()%6/10 + (x.ball).count()//6,\n",
    "    total_runs = (x.runs_off_bat.sum() + x.extras.sum()),\n",
    "    wickets = (x.wicket_type).count(),\n",
    "    three_wickets = ((x.wicket_type).count() >= 3).sum(),\n",
    "    five_wickets = ((x.wicket_type).count() >= 5).sum(),\n",
    "    dot_balls = ((x.runs_off_bat + x.extras) == 0).sum(),\n",
    "    maidens = ((((x.runs_off_bat + x.extras) == 0).sum()) == 6).sum()\n",
    "    )))"
   ]
  },
  {
   "cell_type": "code",
   "execution_count": 16,
   "id": "faac11c3-c7a6-44e5-9057-6fb7fd1a9e61",
   "metadata": {},
   "outputs": [],
   "source": [
    "bowl_data = bowl_table.groupby(['player_name', 'player_team', 'tournament_season']).agg(no_of_matches = ('no_of_matches', 'sum'),\n",
    "                            no_of_innings = ('no_of_innings', 'sum'),\n",
    "                            balls = ('balls', 'sum'),\n",
    "                            overs = ('overs', 'sum'),\n",
    "                            total_runs = ('total_runs', 'sum'),\n",
    "                            wickets = ('wickets', 'sum'),\n",
    "                            three_wickets = ('three_wickets', 'sum'),\n",
    "                            five_wickets = ('five_wickets', 'sum'),\n",
    "                            dot_balls = ('dot_balls', 'sum'),\n",
    "                            maidens = ('maidens', 'sum')\n",
    "                            )"
   ]
  },
  {
   "cell_type": "markdown",
   "id": "a628890a-4165-40e4-8e8c-abeacf8d3eba",
   "metadata": {},
   "source": [
    "### Saving the final files to use as source data for the dashboard"
   ]
  },
  {
   "cell_type": "code",
   "execution_count": 17,
   "id": "5c2df9cc-bf8f-4edc-b5cc-09573bc1c245",
   "metadata": {},
   "outputs": [],
   "source": [
    "bat_data.to_csv(r'C:\\Users\\DELL\\Documents\\Assignments\\CricHeroes\\Final Files\\batters_data.csv')\n",
    "bowl_data.to_csv(r'C:\\Users\\DELL\\Documents\\Assignments\\CricHeroes\\Final Files\\bowlers_data.csv')"
   ]
  }
 ],
 "metadata": {
  "kernelspec": {
   "display_name": "Python 3 (ipykernel)",
   "language": "python",
   "name": "python3"
  },
  "language_info": {
   "codemirror_mode": {
    "name": "ipython",
    "version": 3
   },
   "file_extension": ".py",
   "mimetype": "text/x-python",
   "name": "python",
   "nbconvert_exporter": "python",
   "pygments_lexer": "ipython3",
   "version": "3.11.7"
  },
  "widgets": {
   "application/vnd.jupyter.widget-state+json": {
    "state": {},
    "version_major": 2,
    "version_minor": 0
   }
  }
 },
 "nbformat": 4,
 "nbformat_minor": 5
}
